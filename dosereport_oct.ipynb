{
 "cells": [
  {
   "cell_type": "code",
   "execution_count": 1,
   "id": "16a95efd",
   "metadata": {},
   "outputs": [],
   "source": [
    "import pydicom\n",
    "from pydicom import dcmread\n",
    "import os\n",
    "import re\n",
    "import pandas as pd\n",
    "import datetime"
   ]
  },
  {
   "cell_type": "code",
   "execution_count": 2,
   "id": "a5b11117",
   "metadata": {},
   "outputs": [
    {
     "name": "stdout",
     "output_type": "stream",
     "text": [
      "F:\\!Ramadhani\\Part Time\\RS Bhakti Yudha\\Laporan\\10.22\\Panoramic\n"
     ]
    }
   ],
   "source": [
    "cd \"F:\\!Ramadhani\\Part Time\\RS Bhakti Yudha\\Laporan\\10.22\\Panoramic\""
   ]
  },
  {
   "cell_type": "code",
   "execution_count": 4,
   "id": "5e77c0f4",
   "metadata": {},
   "outputs": [
    {
     "data": {
      "text/plain": [
       "'F:\\\\!Ramadhani\\\\Part Time\\\\RS Bhakti Yudha\\\\Laporan\\\\10.22\\\\Panoramic'"
      ]
     },
     "execution_count": 4,
     "metadata": {},
     "output_type": "execute_result"
    }
   ],
   "source": [
    "pwd"
   ]
  },
  {
   "cell_type": "code",
   "execution_count": 3,
   "id": "ee63b2cd",
   "metadata": {
    "scrolled": true
   },
   "outputs": [],
   "source": [
    "listdir = os.listdir('F:\\\\!Ramadhani\\\\Part Time\\\\RS Bhakti Yudha\\\\Laporan\\\\10.22\\\\Panoramic')"
   ]
  },
  {
   "cell_type": "markdown",
   "id": "1e7b80f6",
   "metadata": {},
   "source": [
    "### Fitur yang dibutuhkan untuk Pelaporan Dosis\n",
    "\n",
    "    1. Patient ID\n",
    "    2. Gender\n",
    "    3. Name\n",
    "    4. Age\n",
    "    5. Weight\n",
    "    6. Pemeriksaan\n",
    "    7. Proyeksi\n",
    "    8. FDD\n",
    "    9. FID\n",
    "    10. kVp\n",
    "    11. mAs\n",
    "    12. Dose\n",
    "    "
   ]
  },
  {
   "cell_type": "markdown",
   "id": "6160e6fc",
   "metadata": {},
   "source": [
    "## Return the Patient ID (PID), Gender (PG), Name (PNA)"
   ]
  },
  {
   "cell_type": "code",
   "execution_count": 8,
   "id": "395acb70",
   "metadata": {},
   "outputs": [],
   "source": [
    "PID = []\n",
    "PG = []\n",
    "PNA = []\n",
    "PKVP = []\n",
    "PDOSE = []\n",
    "for i in listdir:\n",
    "    ds = dcmread(i)\n",
    "    PID.append(ds.PatientID)\n",
    "    PG.append(ds.PatientSex)\n",
    "    PNA.append(ds.PatientName)\n",
    "    PKVP.append(ds.KVP)\n",
    "    PDOSE.append(ds.ImageAndFluoroscopyAreaDoseProduct)"
   ]
  },
  {
   "cell_type": "code",
   "execution_count": 9,
   "id": "0f436a5e",
   "metadata": {},
   "outputs": [],
   "source": [
    "#Extract Name\n",
    "for i in range(len(PNA)):\n",
    "    PNA[i] = ' '.join(re.findall(\"[a-zA-Z]+\", str(PNA[i]))).replace(\"TH\",\"\")"
   ]
  },
  {
   "cell_type": "markdown",
   "id": "3252d576",
   "metadata": {},
   "source": [
    "## Return Patient Age"
   ]
  },
  {
   "cell_type": "code",
   "execution_count": 10,
   "id": "36f6b702",
   "metadata": {},
   "outputs": [],
   "source": [
    "def patientage(bd):\n",
    "    if len(bd) == 0:\n",
    "        age = 0\n",
    "    else:\n",
    "        year = bd[0:4]\n",
    "        month = bd[4:6]\n",
    "        date = bd[6:8]\n",
    "        a = year+'-'+month+'-'+date\n",
    "        x = datetime.datetime.strptime(a,'%Y-%m-%d')\n",
    "        age = datetime.date.today().year - x.year\n",
    "    return age"
   ]
  },
  {
   "cell_type": "code",
   "execution_count": 13,
   "id": "dabac7eb",
   "metadata": {},
   "outputs": [],
   "source": [
    "PA = []\n",
    "for i in listdir:\n",
    "    ds = dcmread(i)\n",
    "    PA.append(patientage(ds.PatientBirthDate))"
   ]
  },
  {
   "cell_type": "markdown",
   "id": "4298121f",
   "metadata": {},
   "source": [
    "## Return Patient Weight (PW)"
   ]
  },
  {
   "cell_type": "code",
   "execution_count": 14,
   "id": "0cc7dc69",
   "metadata": {},
   "outputs": [],
   "source": [
    "PW = []\n",
    "\n",
    "for i in PG:\n",
    "    if i == '':\n",
    "        PW.append(0)\n",
    "    elif i == 'F':\n",
    "        PW.append(50)\n",
    "    else:\n",
    "        PW.append(60)"
   ]
  },
  {
   "cell_type": "markdown",
   "id": "f940e1e9",
   "metadata": {},
   "source": [
    "## Return Pemerkisaan (PB) and Positioning (PP)"
   ]
  },
  {
   "cell_type": "code",
   "execution_count": 15,
   "id": "a69e2bad",
   "metadata": {
    "scrolled": true
   },
   "outputs": [],
   "source": [
    "PB = []\n",
    "PP = []\n",
    "\n",
    "for i in listdir:\n",
    "    ds = dcmread(i)\n",
    "    PB.append(ds.BodyPartExamined)\n",
    "    PP.append(ds.PositionerType)"
   ]
  },
  {
   "cell_type": "code",
   "execution_count": 16,
   "id": "4cfbee5d",
   "metadata": {},
   "outputs": [],
   "source": [
    "#Make Dataframe\n",
    "\n",
    "dic = {'Patient ID':PID, 'Gender':PG, 'Patient Name':PNA, 'kVp':PKVP, 'Dose':PDOSE, 'Age':PA, 'Body Part':PB, 'Positioning':PP}"
   ]
  },
  {
   "cell_type": "code",
   "execution_count": 21,
   "id": "6ec28e21",
   "metadata": {},
   "outputs": [],
   "source": [
    "df = pd.DataFrame(dic)"
   ]
  },
  {
   "cell_type": "code",
   "execution_count": 23,
   "id": "3316c4b3",
   "metadata": {},
   "outputs": [],
   "source": [
    "df.to_csv('informasi_pasien_oktober.csv')"
   ]
  }
 ],
 "metadata": {
  "kernelspec": {
   "display_name": "Python 3 (ipykernel)",
   "language": "python",
   "name": "python3"
  },
  "language_info": {
   "codemirror_mode": {
    "name": "ipython",
    "version": 3
   },
   "file_extension": ".py",
   "mimetype": "text/x-python",
   "name": "python",
   "nbconvert_exporter": "python",
   "pygments_lexer": "ipython3",
   "version": "3.9.7"
  }
 },
 "nbformat": 4,
 "nbformat_minor": 5
}
